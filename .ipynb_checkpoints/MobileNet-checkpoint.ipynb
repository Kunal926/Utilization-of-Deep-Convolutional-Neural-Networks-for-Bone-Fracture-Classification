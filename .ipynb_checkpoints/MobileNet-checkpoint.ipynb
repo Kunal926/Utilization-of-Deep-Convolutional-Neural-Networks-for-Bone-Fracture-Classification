{
 "cells": [
  {
   "cell_type": "code",
   "execution_count": 1,
   "id": "e230cbaf-e489-40a8-9397-3d92ca4a3c84",
   "metadata": {},
   "outputs": [],
   "source": [
    "import tensorflow as tf\n",
    "import numpy as np\n",
    "import os\n",
    "from tensorflow import keras "
   ]
  },
  {
   "cell_type": "code",
   "execution_count": 2,
   "id": "e85b026f-d707-4559-9022-9948b5c3730c",
   "metadata": {},
   "outputs": [],
   "source": [
    "path = \"D:\\\\Projects\\\\Bone Fracture Classifier\\\\Dataset\\\\\""
   ]
  },
  {
   "cell_type": "code",
   "execution_count": 3,
   "id": "f0a49e0d-11d6-492e-89f1-dca2553c8344",
   "metadata": {},
   "outputs": [
    {
     "name": "stdout",
     "output_type": "stream",
     "text": [
      "Found 1129 files belonging to 10 classes.\n",
      "Using 1017 files for training.\n",
      "Found 1129 files belonging to 10 classes.\n",
      "Using 112 files for validation.\n",
      "['Avulsion fracture', 'Comminuted fracture', 'Fracture Dislocation', 'Greenstick fracture', 'Hairline Fracture', 'Impacted fracture', 'Longitudinal fracture', 'Oblique fracture', 'Pathological fracture', 'Spiral Fracture']\n"
     ]
    }
   ],
   "source": [
    "from keras import utils\n",
    "\n",
    "# load the train data\n",
    "train_data = utils.image_dataset_from_directory(\n",
    "    path,\n",
    "    labels=\"inferred\",\n",
    "    label_mode=\"int\",\n",
    "    validation_split=0.1,\n",
    "    subset=\"training\",\n",
    "    shuffle=True,\n",
    "    color_mode=\"rgb\",\n",
    "    image_size=(256,256),\n",
    "    batch_size=64,\n",
    "    seed=40,\n",
    ")\n",
    "\n",
    "#load the test data\n",
    "validation_data = utils.image_dataset_from_directory(\n",
    "    path,\n",
    "    labels=\"inferred\",\n",
    "    label_mode=\"int\",\n",
    "    validation_split=0.1,\n",
    "    subset=\"validation\",\n",
    "    color_mode=\"rgb\",\n",
    "    image_size=(256,256),\n",
    "    batch_size=64,\n",
    "    seed=42,\n",
    ")\n",
    "\n",
    "label = train_data.class_names\n",
    "print(label)"
   ]
  },
  {
   "cell_type": "code",
   "execution_count": 4,
   "id": "4eb55baf-ce12-40ad-8864-1ae726905e85",
   "metadata": {},
   "outputs": [],
   "source": [
    "# data preprocessing\n",
    "def preprocess(img):\n",
    "    img = tf.cast(img, \"float32\") / 255.0\n",
    "    return img\n",
    "\n",
    "train_dataset = train_data.map(lambda x, y: (preprocess(x), y))\n",
    "val_dataset = validation_data.map(lambda x, y: (preprocess(x), y))"
   ]
  },
  {
   "cell_type": "code",
   "execution_count": 5,
   "id": "b35fbaa4-f0fc-4bb3-b77e-2ff5f5358457",
   "metadata": {},
   "outputs": [],
   "source": [
    "# get training data and labels\n",
    "x_train = []\n",
    "y_train = []\n",
    "\n",
    "for images, labels in train_dataset:\n",
    "        #append train data to x_train\n",
    "        x_train.append(images.numpy())\n",
    "        #append labels to y_train\n",
    "        y_train.append(labels.numpy())\n",
    "# concatenate all the batches to get the full list\n",
    "x_train = np.concatenate(x_train, axis=0)\n",
    "y_train = np.concatenate(y_train, axis=0)"
   ]
  },
  {
   "cell_type": "code",
   "execution_count": 6,
   "id": "be77093b-4730-4830-97aa-f93dbe9c2a73",
   "metadata": {},
   "outputs": [],
   "source": [
    "# get val data and labels\n",
    "\n",
    "x_val = []\n",
    "y_val = []\n",
    "\n",
    "for images, labels in val_dataset:\n",
    "    #append train data to x_train\n",
    "    x_val.append(images.numpy())\n",
    "    \n",
    "    #append labels to y_train\n",
    "    y_val.append(labels.numpy())\n",
    "    \n",
    "# concatenate all the batches to get the full list\n",
    "x_val = np.concatenate(x_val, axis=0)\n",
    "y_val = np.concatenate(y_val, axis=0)"
   ]
  },
  {
   "cell_type": "code",
   "execution_count": 7,
   "id": "79b00ea0-845a-4f5c-9f89-18907544cfdc",
   "metadata": {},
   "outputs": [],
   "source": [
    "Num_Labels = len(label)\n",
    "\n",
    "y_train = utils.to_categorical(y_train, Num_Labels)\n",
    "y_val = utils.to_categorical(y_val, Num_Labels)"
   ]
  },
  {
   "cell_type": "code",
   "execution_count": 12,
   "id": "6e75c0ca-95d9-483b-bbbb-d542c3a490a1",
   "metadata": {},
   "outputs": [
    {
     "name": "stderr",
     "output_type": "stream",
     "text": [
      "C:\\Users\\ASUS\\AppData\\Local\\Temp\\ipykernel_41008\\305306814.py:7: UserWarning: `input_shape` is undefined or non-square, or `rows` is not in [128, 160, 192, 224]. Weights for input shape (224, 224) will be loaded as the default.\n",
      "  base_model = MobileNet(weights='imagenet', include_top=False, input_shape=(256, 256, 3))\n"
     ]
    }
   ],
   "source": [
    "from keras.applications import MobileNet\n",
    "from keras.models import Model\n",
    "from keras.layers import GlobalAveragePooling2D, Dropout, Dense\n",
    "from keras.optimizers import Adam\n",
    "\n",
    "# Load the MobileNet model without the top (fully connected) layers\n",
    "base_model = MobileNet(weights='imagenet', include_top=False, input_shape=(256, 256, 3))\n",
    "\n",
    "# Add your custom top layers for classification\n",
    "x = GlobalAveragePooling2D()(base_model.output)\n",
    "x = Dense(128, activation='relu')(x)\n",
    "x = Dropout(0.6)(x)  # Adding dropout for regularization\n",
    "predictions = Dense(10, activation='softmax')(x)  # Assuming 10 classes for bone fracture classification\n",
    "\n",
    "# Create the final model\n",
    "model = Model(inputs=base_model.input, outputs=predictions)\n",
    "\n",
    "# Compile the model\n",
    "opt = Adam(learning_rate=0.0005)\n",
    "model.compile(optimizer=opt, loss='categorical_crossentropy', metrics=['accuracy'])"
   ]
  },
  {
   "cell_type": "code",
   "execution_count": 13,
   "id": "6ebcf26f-6ab1-4b54-a835-ac217286e973",
   "metadata": {},
   "outputs": [],
   "source": [
    "from tensorflow.keras.callbacks import EarlyStopping\n",
    "\n",
    "early_stopping = EarlyStopping(patience=3, restore_best_weights=True)"
   ]
  },
  {
   "cell_type": "code",
   "execution_count": 14,
   "id": "3473531b-9e80-4222-9fe6-42619082896b",
   "metadata": {},
   "outputs": [
    {
     "name": "stdout",
     "output_type": "stream",
     "text": [
      "Epoch 1/30\n",
      "\u001b[1m32/32\u001b[0m \u001b[32m━━━━━━━━━━━━━━━━━━━━\u001b[0m\u001b[37m\u001b[0m \u001b[1m47s\u001b[0m 1s/step - accuracy: 0.1628 - loss: 2.6652 - val_accuracy: 0.1071 - val_loss: 4.0107\n",
      "Epoch 2/30\n",
      "\u001b[1m32/32\u001b[0m \u001b[32m━━━━━━━━━━━━━━━━━━━━\u001b[0m\u001b[37m\u001b[0m \u001b[1m38s\u001b[0m 1s/step - accuracy: 0.4242 - loss: 1.7431 - val_accuracy: 0.1518 - val_loss: 3.3113\n",
      "Epoch 3/30\n",
      "\u001b[1m32/32\u001b[0m \u001b[32m━━━━━━━━━━━━━━━━━━━━\u001b[0m\u001b[37m\u001b[0m \u001b[1m38s\u001b[0m 1s/step - accuracy: 0.5592 - loss: 1.3085 - val_accuracy: 0.1161 - val_loss: 3.9756\n",
      "Epoch 4/30\n",
      "\u001b[1m32/32\u001b[0m \u001b[32m━━━━━━━━━━━━━━━━━━━━\u001b[0m\u001b[37m\u001b[0m \u001b[1m38s\u001b[0m 1s/step - accuracy: 0.7254 - loss: 0.8802 - val_accuracy: 0.1339 - val_loss: 3.8254\n",
      "Epoch 5/30\n",
      "\u001b[1m32/32\u001b[0m \u001b[32m━━━━━━━━━━━━━━━━━━━━\u001b[0m\u001b[37m\u001b[0m \u001b[1m37s\u001b[0m 1s/step - accuracy: 0.8289 - loss: 0.5555 - val_accuracy: 0.2321 - val_loss: 3.1793\n",
      "Epoch 6/30\n",
      "\u001b[1m32/32\u001b[0m \u001b[32m━━━━━━━━━━━━━━━━━━━━\u001b[0m\u001b[37m\u001b[0m \u001b[1m37s\u001b[0m 1s/step - accuracy: 0.8725 - loss: 0.3949 - val_accuracy: 0.5000 - val_loss: 1.6048\n",
      "Epoch 7/30\n",
      "\u001b[1m32/32\u001b[0m \u001b[32m━━━━━━━━━━━━━━━━━━━━\u001b[0m\u001b[37m\u001b[0m \u001b[1m37s\u001b[0m 1s/step - accuracy: 0.9036 - loss: 0.3315 - val_accuracy: 0.6339 - val_loss: 1.2067\n",
      "Epoch 8/30\n",
      "\u001b[1m32/32\u001b[0m \u001b[32m━━━━━━━━━━━━━━━━━━━━\u001b[0m\u001b[37m\u001b[0m \u001b[1m39s\u001b[0m 1s/step - accuracy: 0.9311 - loss: 0.2322 - val_accuracy: 0.5625 - val_loss: 1.6199\n",
      "Epoch 9/30\n",
      "\u001b[1m32/32\u001b[0m \u001b[32m━━━━━━━━━━━━━━━━━━━━\u001b[0m\u001b[37m\u001b[0m \u001b[1m40s\u001b[0m 1s/step - accuracy: 0.9642 - loss: 0.1398 - val_accuracy: 0.7768 - val_loss: 0.7060\n",
      "Epoch 10/30\n",
      "\u001b[1m32/32\u001b[0m \u001b[32m━━━━━━━━━━━━━━━━━━━━\u001b[0m\u001b[37m\u001b[0m \u001b[1m41s\u001b[0m 1s/step - accuracy: 0.9821 - loss: 0.0775 - val_accuracy: 0.9018 - val_loss: 0.3064\n",
      "Epoch 11/30\n",
      "\u001b[1m32/32\u001b[0m \u001b[32m━━━━━━━━━━━━━━━━━━━━\u001b[0m\u001b[37m\u001b[0m \u001b[1m40s\u001b[0m 1s/step - accuracy: 0.9673 - loss: 0.1160 - val_accuracy: 0.8393 - val_loss: 0.6229\n",
      "Epoch 12/30\n",
      "\u001b[1m32/32\u001b[0m \u001b[32m━━━━━━━━━━━━━━━━━━━━\u001b[0m\u001b[37m\u001b[0m \u001b[1m41s\u001b[0m 1s/step - accuracy: 0.9759 - loss: 0.0801 - val_accuracy: 0.7946 - val_loss: 0.7266\n",
      "Epoch 13/30\n",
      "\u001b[1m32/32\u001b[0m \u001b[32m━━━━━━━━━━━━━━━━━━━━\u001b[0m\u001b[37m\u001b[0m \u001b[1m41s\u001b[0m 1s/step - accuracy: 0.9707 - loss: 0.0901 - val_accuracy: 0.7857 - val_loss: 0.8483\n"
     ]
    }
   ],
   "source": [
    "# Train the model\n",
    "history = model.fit(x_train, y_train,\n",
    "                    epochs=30,\n",
    "                    batch_size=32,\n",
    "                    shuffle=True,\n",
    "                    validation_data=(x_val, y_val),\n",
    "                    callbacks=[early_stopping])"
   ]
  },
  {
   "cell_type": "code",
   "execution_count": 15,
   "id": "206ff009-2117-422a-83a1-d777c0f49873",
   "metadata": {},
   "outputs": [],
   "source": [
    "model.save('MobileNet.keras')"
   ]
  },
  {
   "cell_type": "code",
   "execution_count": null,
   "id": "0cc4cb5e-37ec-4525-8227-29115647a464",
   "metadata": {},
   "outputs": [],
   "source": []
  }
 ],
 "metadata": {
  "kernelspec": {
   "display_name": "Python 3 (ipykernel)",
   "language": "python",
   "name": "python3"
  },
  "language_info": {
   "codemirror_mode": {
    "name": "ipython",
    "version": 3
   },
   "file_extension": ".py",
   "mimetype": "text/x-python",
   "name": "python",
   "nbconvert_exporter": "python",
   "pygments_lexer": "ipython3",
   "version": "3.12.3"
  }
 },
 "nbformat": 4,
 "nbformat_minor": 5
}

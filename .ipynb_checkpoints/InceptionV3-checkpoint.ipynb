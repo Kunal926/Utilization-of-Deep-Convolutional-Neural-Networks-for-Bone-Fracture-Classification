{
 "cells": [
  {
   "cell_type": "code",
   "execution_count": 1,
   "id": "e230cbaf-e489-40a8-9397-3d92ca4a3c84",
   "metadata": {},
   "outputs": [],
   "source": [
    "import tensorflow as tf\n",
    "import numpy as np\n",
    "import os\n",
    "from tensorflow import keras "
   ]
  },
  {
   "cell_type": "code",
   "execution_count": 2,
   "id": "e85b026f-d707-4559-9022-9948b5c3730c",
   "metadata": {},
   "outputs": [],
   "source": [
    "path = \"D:\\\\Projects\\\\Bone Fracture Classifier\\\\Dataset\\\\\""
   ]
  },
  {
   "cell_type": "code",
   "execution_count": 3,
   "id": "f0a49e0d-11d6-492e-89f1-dca2553c8344",
   "metadata": {},
   "outputs": [
    {
     "name": "stdout",
     "output_type": "stream",
     "text": [
      "Found 1129 files belonging to 10 classes.\n",
      "Using 1017 files for training.\n",
      "Found 1129 files belonging to 10 classes.\n",
      "Using 112 files for validation.\n",
      "['Avulsion fracture', 'Comminuted fracture', 'Fracture Dislocation', 'Greenstick fracture', 'Hairline Fracture', 'Impacted fracture', 'Longitudinal fracture', 'Oblique fracture', 'Pathological fracture', 'Spiral Fracture']\n"
     ]
    }
   ],
   "source": [
    "from keras import utils\n",
    "\n",
    "# load the train data\n",
    "train_data = utils.image_dataset_from_directory(\n",
    "    path,\n",
    "    labels=\"inferred\",\n",
    "    label_mode=\"int\",\n",
    "    validation_split=0.1,\n",
    "    subset=\"training\",\n",
    "    shuffle=True,\n",
    "    color_mode=\"rgb\",\n",
    "    image_size=(256,256),\n",
    "    batch_size=64,\n",
    "    seed=40,\n",
    ")\n",
    "\n",
    "#load the test data\n",
    "validation_data = utils.image_dataset_from_directory(\n",
    "    path,\n",
    "    labels=\"inferred\",\n",
    "    label_mode=\"int\",\n",
    "    validation_split=0.1,\n",
    "    subset=\"validation\",\n",
    "    color_mode=\"rgb\",\n",
    "    image_size=(256,256),\n",
    "    batch_size=64,\n",
    "    seed=42,\n",
    ")\n",
    "\n",
    "label = train_data.class_names\n",
    "print(label)"
   ]
  },
  {
   "cell_type": "code",
   "execution_count": 4,
   "id": "4eb55baf-ce12-40ad-8864-1ae726905e85",
   "metadata": {},
   "outputs": [],
   "source": [
    "# data preprocessing\n",
    "def preprocess(img):\n",
    "    img = tf.cast(img, \"float32\") / 255.0\n",
    "    return img\n",
    "\n",
    "train_dataset = train_data.map(lambda x, y: (preprocess(x), y))\n",
    "val_dataset = validation_data.map(lambda x, y: (preprocess(x), y))"
   ]
  },
  {
   "cell_type": "code",
   "execution_count": 5,
   "id": "b35fbaa4-f0fc-4bb3-b77e-2ff5f5358457",
   "metadata": {},
   "outputs": [],
   "source": [
    "# get training data and labels\n",
    "x_train = []\n",
    "y_train = []\n",
    "\n",
    "for images, labels in train_dataset:\n",
    "        #append train data to x_train\n",
    "        x_train.append(images.numpy())\n",
    "        #append labels to y_train\n",
    "        y_train.append(labels.numpy())\n",
    "# concatenate all the batches to get the full list\n",
    "x_train = np.concatenate(x_train, axis=0)\n",
    "y_train = np.concatenate(y_train, axis=0)"
   ]
  },
  {
   "cell_type": "code",
   "execution_count": 6,
   "id": "be77093b-4730-4830-97aa-f93dbe9c2a73",
   "metadata": {},
   "outputs": [],
   "source": [
    "# get val data and labels\n",
    "\n",
    "x_val = []\n",
    "y_val = []\n",
    "\n",
    "for images, labels in val_dataset:\n",
    "    #append train data to x_train\n",
    "    x_val.append(images.numpy())\n",
    "    \n",
    "    #append labels to y_train\n",
    "    y_val.append(labels.numpy())\n",
    "    \n",
    "# concatenate all the batches to get the full list\n",
    "x_val = np.concatenate(x_val, axis=0)\n",
    "y_val = np.concatenate(y_val, axis=0)"
   ]
  },
  {
   "cell_type": "code",
   "execution_count": 7,
   "id": "79b00ea0-845a-4f5c-9f89-18907544cfdc",
   "metadata": {},
   "outputs": [],
   "source": [
    "Num_Labels = len(label)\n",
    "\n",
    "y_train = utils.to_categorical(y_train, Num_Labels)\n",
    "y_val = utils.to_categorical(y_val, Num_Labels)"
   ]
  },
  {
   "cell_type": "code",
   "execution_count": 9,
   "id": "6e75c0ca-95d9-483b-bbbb-d542c3a490a1",
   "metadata": {},
   "outputs": [
    {
     "name": "stdout",
     "output_type": "stream",
     "text": [
      "Downloading data from https://storage.googleapis.com/tensorflow/keras-applications/inception_v3/inception_v3_weights_tf_dim_ordering_tf_kernels_notop.h5\n",
      "\u001b[1m87910968/87910968\u001b[0m \u001b[32m━━━━━━━━━━━━━━━━━━━━\u001b[0m\u001b[37m\u001b[0m \u001b[1m10s\u001b[0m 0us/step\n"
     ]
    }
   ],
   "source": [
    "from tensorflow.keras.applications import DenseNet121\n",
    "from tensorflow.keras.layers import Dense, GlobalAveragePooling2D\n",
    "from tensorflow.keras.models import Model\n",
    "from tensorflow.keras.optimizers import Adam\n",
    "from keras.applications import InceptionV3\n",
    "\n",
    "base_model = InceptionV3(weights='imagenet', include_top=False, input_shape=(256, 256, 3))\n",
    "\n",
    "# Freeze the pre-trained layers\n",
    "for layer in base_model.layers:\n",
    "    layer.trainable = False\n",
    "\n",
    "# Add your classification layers on top of DenseNet121\n",
    "x = base_model.output\n",
    "x = GlobalAveragePooling2D()(x)\n",
    "x = Dense(128, activation='relu')(x)\n",
    "predictions = Dense(10, activation='softmax')(x)\n",
    "\n",
    "# Combine base model and top layers\n",
    "model = Model(inputs=base_model.input, outputs=predictions)\n",
    "\n",
    "# Compile the model\n",
    "opt = Adam(learning_rate=0.0005)\n",
    "model.compile(optimizer=opt, loss='categorical_crossentropy', metrics=['accuracy'])"
   ]
  },
  {
   "cell_type": "code",
   "execution_count": 10,
   "id": "6ebcf26f-6ab1-4b54-a835-ac217286e973",
   "metadata": {},
   "outputs": [],
   "source": [
    "from tensorflow.keras.callbacks import EarlyStopping\n",
    "\n",
    "early_stopping = EarlyStopping(patience=3, restore_best_weights=True)"
   ]
  },
  {
   "cell_type": "code",
   "execution_count": 11,
   "id": "3473531b-9e80-4222-9fe6-42619082896b",
   "metadata": {},
   "outputs": [
    {
     "name": "stdout",
     "output_type": "stream",
     "text": [
      "Epoch 1/30\n",
      "\u001b[1m32/32\u001b[0m \u001b[32m━━━━━━━━━━━━━━━━━━━━\u001b[0m\u001b[37m\u001b[0m \u001b[1m19s\u001b[0m 483ms/step - accuracy: 0.1490 - loss: 2.3363 - val_accuracy: 0.2679 - val_loss: 2.0159\n",
      "Epoch 2/30\n",
      "\u001b[1m32/32\u001b[0m \u001b[32m━━━━━━━━━━━━━━━━━━━━\u001b[0m\u001b[37m\u001b[0m \u001b[1m14s\u001b[0m 443ms/step - accuracy: 0.2910 - loss: 1.9799 - val_accuracy: 0.4286 - val_loss: 1.7914\n",
      "Epoch 3/30\n",
      "\u001b[1m32/32\u001b[0m \u001b[32m━━━━━━━━━━━━━━━━━━━━\u001b[0m\u001b[37m\u001b[0m \u001b[1m15s\u001b[0m 457ms/step - accuracy: 0.4260 - loss: 1.7487 - val_accuracy: 0.4375 - val_loss: 1.6332\n",
      "Epoch 4/30\n",
      "\u001b[1m32/32\u001b[0m \u001b[32m━━━━━━━━━━━━━━━━━━━━\u001b[0m\u001b[37m\u001b[0m \u001b[1m15s\u001b[0m 461ms/step - accuracy: 0.4801 - loss: 1.5703 - val_accuracy: 0.5714 - val_loss: 1.4134\n",
      "Epoch 5/30\n",
      "\u001b[1m32/32\u001b[0m \u001b[32m━━━━━━━━━━━━━━━━━━━━\u001b[0m\u001b[37m\u001b[0m \u001b[1m15s\u001b[0m 457ms/step - accuracy: 0.5600 - loss: 1.3775 - val_accuracy: 0.6339 - val_loss: 1.3195\n",
      "Epoch 6/30\n",
      "\u001b[1m32/32\u001b[0m \u001b[32m━━━━━━━━━━━━━━━━━━━━\u001b[0m\u001b[37m\u001b[0m \u001b[1m16s\u001b[0m 492ms/step - accuracy: 0.5963 - loss: 1.3182 - val_accuracy: 0.6071 - val_loss: 1.3527\n",
      "Epoch 7/30\n",
      "\u001b[1m32/32\u001b[0m \u001b[32m━━━━━━━━━━━━━━━━━━━━\u001b[0m\u001b[37m\u001b[0m \u001b[1m17s\u001b[0m 534ms/step - accuracy: 0.6404 - loss: 1.1825 - val_accuracy: 0.6786 - val_loss: 1.1264\n",
      "Epoch 8/30\n",
      "\u001b[1m32/32\u001b[0m \u001b[32m━━━━━━━━━━━━━━━━━━━━\u001b[0m\u001b[37m\u001b[0m \u001b[1m18s\u001b[0m 568ms/step - accuracy: 0.6703 - loss: 1.1288 - val_accuracy: 0.7321 - val_loss: 1.0385\n",
      "Epoch 9/30\n",
      "\u001b[1m32/32\u001b[0m \u001b[32m━━━━━━━━━━━━━━━━━━━━\u001b[0m\u001b[37m\u001b[0m \u001b[1m16s\u001b[0m 484ms/step - accuracy: 0.7530 - loss: 0.9658 - val_accuracy: 0.7232 - val_loss: 1.0086\n",
      "Epoch 10/30\n",
      "\u001b[1m32/32\u001b[0m \u001b[32m━━━━━━━━━━━━━━━━━━━━\u001b[0m\u001b[37m\u001b[0m \u001b[1m16s\u001b[0m 501ms/step - accuracy: 0.7663 - loss: 0.8792 - val_accuracy: 0.7679 - val_loss: 0.9261\n",
      "Epoch 11/30\n",
      "\u001b[1m32/32\u001b[0m \u001b[32m━━━━━━━━━━━━━━━━━━━━\u001b[0m\u001b[37m\u001b[0m \u001b[1m17s\u001b[0m 542ms/step - accuracy: 0.7758 - loss: 0.8632 - val_accuracy: 0.7857 - val_loss: 0.8468\n",
      "Epoch 12/30\n",
      "\u001b[1m32/32\u001b[0m \u001b[32m━━━━━━━━━━━━━━━━━━━━\u001b[0m\u001b[37m\u001b[0m \u001b[1m15s\u001b[0m 469ms/step - accuracy: 0.8453 - loss: 0.7278 - val_accuracy: 0.8661 - val_loss: 0.7462\n",
      "Epoch 13/30\n",
      "\u001b[1m32/32\u001b[0m \u001b[32m━━━━━━━━━━━━━━━━━━━━\u001b[0m\u001b[37m\u001b[0m \u001b[1m17s\u001b[0m 525ms/step - accuracy: 0.9037 - loss: 0.6537 - val_accuracy: 0.8482 - val_loss: 0.7034\n",
      "Epoch 14/30\n",
      "\u001b[1m32/32\u001b[0m \u001b[32m━━━━━━━━━━━━━━━━━━━━\u001b[0m\u001b[37m\u001b[0m \u001b[1m17s\u001b[0m 534ms/step - accuracy: 0.8880 - loss: 0.6171 - val_accuracy: 0.8304 - val_loss: 0.6905\n",
      "Epoch 15/30\n",
      "\u001b[1m32/32\u001b[0m \u001b[32m━━━━━━━━━━━━━━━━━━━━\u001b[0m\u001b[37m\u001b[0m \u001b[1m15s\u001b[0m 455ms/step - accuracy: 0.9051 - loss: 0.5592 - val_accuracy: 0.8750 - val_loss: 0.6497\n",
      "Epoch 16/30\n",
      "\u001b[1m32/32\u001b[0m \u001b[32m━━━━━━━━━━━━━━━━━━━━\u001b[0m\u001b[37m\u001b[0m \u001b[1m17s\u001b[0m 547ms/step - accuracy: 0.9187 - loss: 0.5125 - val_accuracy: 0.8661 - val_loss: 0.5966\n",
      "Epoch 17/30\n",
      "\u001b[1m32/32\u001b[0m \u001b[32m━━━━━━━━━━━━━━━━━━━━\u001b[0m\u001b[37m\u001b[0m \u001b[1m17s\u001b[0m 527ms/step - accuracy: 0.9458 - loss: 0.4471 - val_accuracy: 0.9196 - val_loss: 0.5480\n",
      "Epoch 18/30\n",
      "\u001b[1m32/32\u001b[0m \u001b[32m━━━━━━━━━━━━━━━━━━━━\u001b[0m\u001b[37m\u001b[0m \u001b[1m15s\u001b[0m 468ms/step - accuracy: 0.9582 - loss: 0.4121 - val_accuracy: 0.9196 - val_loss: 0.5215\n",
      "Epoch 19/30\n",
      "\u001b[1m32/32\u001b[0m \u001b[32m━━━━━━━━━━━━━━━━━━━━\u001b[0m\u001b[37m\u001b[0m \u001b[1m17s\u001b[0m 544ms/step - accuracy: 0.9732 - loss: 0.3545 - val_accuracy: 0.9018 - val_loss: 0.5001\n",
      "Epoch 20/30\n",
      "\u001b[1m32/32\u001b[0m \u001b[32m━━━━━━━━━━━━━━━━━━━━\u001b[0m\u001b[37m\u001b[0m \u001b[1m16s\u001b[0m 511ms/step - accuracy: 0.9815 - loss: 0.3104 - val_accuracy: 0.9196 - val_loss: 0.4733\n",
      "Epoch 21/30\n",
      "\u001b[1m32/32\u001b[0m \u001b[32m━━━━━━━━━━━━━━━━━━━━\u001b[0m\u001b[37m\u001b[0m \u001b[1m15s\u001b[0m 479ms/step - accuracy: 0.9654 - loss: 0.3101 - val_accuracy: 0.9464 - val_loss: 0.4258\n",
      "Epoch 22/30\n",
      "\u001b[1m32/32\u001b[0m \u001b[32m━━━━━━━━━━━━━━━━━━━━\u001b[0m\u001b[37m\u001b[0m \u001b[1m17s\u001b[0m 539ms/step - accuracy: 0.9801 - loss: 0.2735 - val_accuracy: 0.9464 - val_loss: 0.4097\n",
      "Epoch 23/30\n",
      "\u001b[1m32/32\u001b[0m \u001b[32m━━━━━━━━━━━━━━━━━━━━\u001b[0m\u001b[37m\u001b[0m \u001b[1m16s\u001b[0m 501ms/step - accuracy: 0.9891 - loss: 0.2366 - val_accuracy: 0.9554 - val_loss: 0.3973\n",
      "Epoch 24/30\n",
      "\u001b[1m32/32\u001b[0m \u001b[32m━━━━━━━━━━━━━━━━━━━━\u001b[0m\u001b[37m\u001b[0m \u001b[1m16s\u001b[0m 509ms/step - accuracy: 0.9949 - loss: 0.2145 - val_accuracy: 0.9643 - val_loss: 0.3738\n",
      "Epoch 25/30\n",
      "\u001b[1m32/32\u001b[0m \u001b[32m━━━━━━━━━━━━━━━━━━━━\u001b[0m\u001b[37m\u001b[0m \u001b[1m18s\u001b[0m 558ms/step - accuracy: 0.9935 - loss: 0.1969 - val_accuracy: 0.9643 - val_loss: 0.3532\n",
      "Epoch 26/30\n",
      "\u001b[1m32/32\u001b[0m \u001b[32m━━━━━━━━━━━━━━━━━━━━\u001b[0m\u001b[37m\u001b[0m \u001b[1m16s\u001b[0m 509ms/step - accuracy: 0.9990 - loss: 0.1728 - val_accuracy: 0.9643 - val_loss: 0.3520\n",
      "Epoch 27/30\n",
      "\u001b[1m32/32\u001b[0m \u001b[32m━━━━━━━━━━━━━━━━━━━━\u001b[0m\u001b[37m\u001b[0m \u001b[1m17s\u001b[0m 518ms/step - accuracy: 0.9981 - loss: 0.1605 - val_accuracy: 0.9643 - val_loss: 0.3339\n",
      "Epoch 28/30\n",
      "\u001b[1m32/32\u001b[0m \u001b[32m━━━━━━━━━━━━━━━━━━━━\u001b[0m\u001b[37m\u001b[0m \u001b[1m18s\u001b[0m 554ms/step - accuracy: 0.9998 - loss: 0.1388 - val_accuracy: 0.9643 - val_loss: 0.3185\n",
      "Epoch 29/30\n",
      "\u001b[1m32/32\u001b[0m \u001b[32m━━━━━━━━━━━━━━━━━━━━\u001b[0m\u001b[37m\u001b[0m \u001b[1m16s\u001b[0m 512ms/step - accuracy: 0.9968 - loss: 0.1346 - val_accuracy: 0.9643 - val_loss: 0.3158\n",
      "Epoch 30/30\n",
      "\u001b[1m32/32\u001b[0m \u001b[32m━━━━━━━━━━━━━━━━━━━━\u001b[0m\u001b[37m\u001b[0m \u001b[1m17s\u001b[0m 544ms/step - accuracy: 0.9981 - loss: 0.1248 - val_accuracy: 0.9643 - val_loss: 0.3391\n"
     ]
    }
   ],
   "source": [
    "# Train the model\n",
    "history = model.fit(x_train, y_train,\n",
    "                    epochs=30,\n",
    "                    batch_size=32,\n",
    "                    shuffle=True,\n",
    "                    validation_data=(x_val, y_val),\n",
    "                    callbacks=[early_stopping])"
   ]
  },
  {
   "cell_type": "code",
   "execution_count": 12,
   "id": "78a49d97-1dbf-41a5-9f9a-242fc72f879a",
   "metadata": {},
   "outputs": [
    {
     "name": "stdout",
     "output_type": "stream",
     "text": [
      "\u001b[1m4/4\u001b[0m \u001b[32m━━━━━━━━━━━━━━━━━━━━\u001b[0m\u001b[37m\u001b[0m \u001b[1m1s\u001b[0m 345ms/step - accuracy: 0.9586 - loss: 0.3649\n",
      "Test Loss: 0.31576141715049744\n",
      "Test Accuracy: 0.9642857313156128\n"
     ]
    }
   ],
   "source": [
    "test_loss, test_accuracy = model.evaluate(x_val, y_val)\n",
    "\n",
    "print(f\"Test Loss: {test_loss}\")\n",
    "print(f\"Test Accuracy: {test_accuracy}\")"
   ]
  },
  {
   "cell_type": "code",
   "execution_count": 13,
   "id": "206ff009-2117-422a-83a1-d777c0f49873",
   "metadata": {},
   "outputs": [],
   "source": [
    "model.save('InceptionV3.keras')"
   ]
  },
  {
   "cell_type": "code",
   "execution_count": null,
   "id": "ac2565f5-b1c5-44d8-97e6-2440ac31ec42",
   "metadata": {},
   "outputs": [],
   "source": []
  }
 ],
 "metadata": {
  "kernelspec": {
   "display_name": "Python 3 (ipykernel)",
   "language": "python",
   "name": "python3"
  },
  "language_info": {
   "codemirror_mode": {
    "name": "ipython",
    "version": 3
   },
   "file_extension": ".py",
   "mimetype": "text/x-python",
   "name": "python",
   "nbconvert_exporter": "python",
   "pygments_lexer": "ipython3",
   "version": "3.12.3"
  }
 },
 "nbformat": 4,
 "nbformat_minor": 5
}

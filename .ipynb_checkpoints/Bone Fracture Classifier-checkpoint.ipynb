{
 "cells": [
  {
   "cell_type": "code",
   "execution_count": 1,
   "id": "1f7c96d1-a009-40f6-a61b-6a0f62636dfd",
   "metadata": {},
   "outputs": [],
   "source": [
    "import tensorflow as tf\n",
    "import numpy as np\n",
    "import os\n",
    "from tensorflow import keras "
   ]
  },
  {
   "cell_type": "code",
   "execution_count": 2,
   "id": "07edc2cc",
   "metadata": {},
   "outputs": [],
   "source": [
    "path = \"D:\\\\Projects\\\\Bone Fracture Classifier\\\\Dataset\\\\\""
   ]
  },
  {
   "cell_type": "code",
   "execution_count": 3,
   "id": "71170112",
   "metadata": {},
   "outputs": [
    {
     "name": "stdout",
     "output_type": "stream",
     "text": [
      "Found 1129 files belonging to 10 classes.\n",
      "Using 1017 files for training.\n",
      "Found 1129 files belonging to 10 classes.\n",
      "Using 112 files for validation.\n"
     ]
    }
   ],
   "source": [
    "from keras import utils\n",
    "\n",
    "# load the train data\n",
    "train_data = utils.image_dataset_from_directory(\n",
    "    path,\n",
    "    labels=\"inferred\",\n",
    "    label_mode=\"int\",\n",
    "    validation_split=0.1,\n",
    "    subset=\"training\",\n",
    "    shuffle=True,\n",
    "    color_mode=\"rgb\",\n",
    "    image_size=(256,256),\n",
    "    batch_size=64,\n",
    "    seed=40,\n",
    ")\n",
    "\n",
    "#load the test data\n",
    "validation_data = utils.image_dataset_from_directory(\n",
    "    path,\n",
    "    labels=\"inferred\",\n",
    "    label_mode=\"int\",\n",
    "    validation_split=0.1,\n",
    "    subset=\"validation\",\n",
    "    color_mode=\"rgb\",\n",
    "    image_size=(256,256),\n",
    "    batch_size=64,\n",
    "    seed=42,\n",
    ")\n",
    "\n",
    "label = train_data.class_names\n",
    "print(label)"
   ]
  },
  {
   "cell_type": "code",
   "execution_count": 4,
   "id": "7178f16e-5f9b-4720-8d52-af14d5b06ab2",
   "metadata": {},
   "outputs": [],
   "source": [
    "# data preprocessing\n",
    "def preprocess(img):\n",
    "    img = tf.cast(img, \"float32\") / 255.0\n",
    "    return img\n",
    "\n",
    "train_dataset = train_data.map(lambda x, y: (preprocess(x), y))\n",
    "val_dataset = validation_data.map(lambda x, y: (preprocess(x), y))"
   ]
  },
  {
   "cell_type": "code",
   "execution_count": 5,
   "id": "fba2a6fb-2865-4653-bca9-24a13bc46459",
   "metadata": {},
   "outputs": [],
   "source": [
    "# get training data and labels\n",
    "x_train = []\n",
    "y_train = []\n",
    "\n",
    "for images, labels in train_dataset:\n",
    "        #append train data to x_train\n",
    "        x_train.append(images.numpy())\n",
    "        #append labels to y_train\n",
    "        y_train.append(labels.numpy())\n",
    "# concatenate all the batches to get the full list\n",
    "x_train = np.concatenate(x_train, axis=0)\n",
    "y_train = np.concatenate(y_train, axis=0)"
   ]
  },
  {
   "cell_type": "code",
   "execution_count": 6,
   "id": "8638830e-83d9-4f30-a4aa-1f9250408a55",
   "metadata": {},
   "outputs": [],
   "source": [
    "# get val data and labels\n",
    "\n",
    "x_val = []\n",
    "y_val = []\n",
    "\n",
    "for images, labels in val_dataset:\n",
    "    #append train data to x_train\n",
    "    x_val.append(images.numpy())\n",
    "    \n",
    "    #append labels to y_train\n",
    "    y_val.append(labels.numpy())\n",
    "    \n",
    "# concatenate all the batches to get the full list\n",
    "x_val = np.concatenate(x_val, axis=0)\n",
    "y_val = np.concatenate(y_val, axis=0)"
   ]
  },
  {
   "cell_type": "code",
   "execution_count": 7,
   "id": "ca2815ea-36d7-44d3-ab4a-df411b9d3be0",
   "metadata": {},
   "outputs": [],
   "source": [
    "Num_Labels = len(label)\n",
    "\n",
    "y_train = utils.to_categorical(y_train, Num_Labels)\n",
    "y_val = utils.to_categorical(y_val, Num_Labels)"
   ]
  },
  {
   "cell_type": "code",
   "execution_count": 8,
   "id": "e6a50174-cf0c-4559-a913-f15ba8c92d6b",
   "metadata": {},
   "outputs": [],
   "source": [
    "from keras.models import Sequential\n",
    "from keras.layers import Conv2D, MaxPooling2D, Flatten, Dense, Input, BatchNormalization, LeakyReLU, Dropout\n",
    "from keras.optimizers import Adam\n",
    "\n",
    "\n",
    "model = Sequential()\n",
    "\n",
    "# Define the model\n",
    "model = Sequential()\n",
    "# Define the input shape\n",
    "input_shape = (256, 256, 3)\n",
    "model.add(Input(shape=input_shape))\n",
    "model.add(Conv2D(32, (3, 3), activation='relu'))\n",
    "model.add(MaxPooling2D((1, 1)))\n",
    "model.add(Conv2D(64, (3, 3), activation='relu'))\n",
    "model.add(MaxPooling2D((1, 1)))\n",
    "model.add(Flatten())\n",
    "model.add(Dense(128, activation='relu'))\n",
    "model.add(Dense(10, activation='softmax'))\n",
    "\n",
    "# Compile the model\n",
    "opt= Adam(learning_rate=0.0005)\n",
    "model.compile(optimizer=opt, loss='categorical_crossentropy', metrics=['accuracy'])"
   ]
  },
  {
   "cell_type": "code",
   "execution_count": 9,
   "id": "225d820e-a48e-48fa-b650-eab0cc496068",
   "metadata": {},
   "outputs": [],
   "source": [
    "from tensorflow.keras.callbacks import EarlyStopping\n",
    "\n",
    "early_stopping = EarlyStopping(patience=3, restore_best_weights=True)"
   ]
  },
  {
   "cell_type": "code",
   "execution_count": 10,
   "id": "8c6fb4e8-5e1f-4481-940d-6007bb3c4798",
   "metadata": {
    "scrolled": true
   },
   "outputs": [
    {
     "name": "stdout",
     "output_type": "stream",
     "text": [
      "Epoch 1/30\n",
      "\u001b[1m32/32\u001b[0m \u001b[32m━━━━━━━━━━━━━━━━━━━━\u001b[0m\u001b[37m\u001b[0m \u001b[1m12s\u001b[0m 365ms/step - accuracy: 0.0976 - loss: 4.7240 - val_accuracy: 0.2500 - val_loss: 2.2579\n",
      "Epoch 2/30\n",
      "\u001b[1m32/32\u001b[0m \u001b[32m━━━━━━━━━━━━━━━━━━━━\u001b[0m\u001b[37m\u001b[0m \u001b[1m12s\u001b[0m 383ms/step - accuracy: 0.1972 - loss: 2.2396 - val_accuracy: 0.2768 - val_loss: 1.9245\n",
      "Epoch 3/30\n",
      "\u001b[1m32/32\u001b[0m \u001b[32m━━━━━━━━━━━━━━━━━━━━\u001b[0m\u001b[37m\u001b[0m \u001b[1m14s\u001b[0m 433ms/step - accuracy: 0.3631 - loss: 1.8903 - val_accuracy: 0.6518 - val_loss: 1.3585\n",
      "Epoch 4/30\n",
      "\u001b[1m32/32\u001b[0m \u001b[32m━━━━━━━━━━━━━━━━━━━━\u001b[0m\u001b[37m\u001b[0m \u001b[1m12s\u001b[0m 370ms/step - accuracy: 0.6315 - loss: 1.2989 - val_accuracy: 0.7768 - val_loss: 0.9359\n",
      "Epoch 5/30\n",
      "\u001b[1m32/32\u001b[0m \u001b[32m━━━━━━━━━━━━━━━━━━━━\u001b[0m\u001b[37m\u001b[0m \u001b[1m12s\u001b[0m 365ms/step - accuracy: 0.7779 - loss: 0.8279 - val_accuracy: 0.8661 - val_loss: 0.6488\n",
      "Epoch 6/30\n",
      "\u001b[1m32/32\u001b[0m \u001b[32m━━━━━━━━━━━━━━━━━━━━\u001b[0m\u001b[37m\u001b[0m \u001b[1m12s\u001b[0m 368ms/step - accuracy: 0.8668 - loss: 0.5320 - val_accuracy: 0.9196 - val_loss: 0.5214\n",
      "Epoch 7/30\n",
      "\u001b[1m32/32\u001b[0m \u001b[32m━━━━━━━━━━━━━━━━━━━━\u001b[0m\u001b[37m\u001b[0m \u001b[1m12s\u001b[0m 370ms/step - accuracy: 0.9576 - loss: 0.2621 - val_accuracy: 0.9286 - val_loss: 0.3681\n",
      "Epoch 8/30\n",
      "\u001b[1m32/32\u001b[0m \u001b[32m━━━━━━━━━━━━━━━━━━━━\u001b[0m\u001b[37m\u001b[0m \u001b[1m12s\u001b[0m 378ms/step - accuracy: 0.9694 - loss: 0.2111 - val_accuracy: 0.9464 - val_loss: 0.3002\n",
      "Epoch 9/30\n",
      "\u001b[1m32/32\u001b[0m \u001b[32m━━━━━━━━━━━━━━━━━━━━\u001b[0m\u001b[37m\u001b[0m \u001b[1m12s\u001b[0m 372ms/step - accuracy: 0.9860 - loss: 0.1264 - val_accuracy: 0.9375 - val_loss: 0.3414\n",
      "Epoch 10/30\n",
      "\u001b[1m32/32\u001b[0m \u001b[32m━━━━━━━━━━━━━━━━━━━━\u001b[0m\u001b[37m\u001b[0m \u001b[1m12s\u001b[0m 370ms/step - accuracy: 0.9851 - loss: 0.1215 - val_accuracy: 0.9286 - val_loss: 0.4091\n",
      "Epoch 11/30\n",
      "\u001b[1m32/32\u001b[0m \u001b[32m━━━━━━━━━━━━━━━━━━━━\u001b[0m\u001b[37m\u001b[0m \u001b[1m13s\u001b[0m 396ms/step - accuracy: 0.9894 - loss: 0.1492 - val_accuracy: 0.9375 - val_loss: 0.3543\n"
     ]
    }
   ],
   "source": [
    "history = model.fit(x_train,y_train,\n",
    "                    epochs=30,\n",
    "                    batch_size=32,\n",
    "                    shuffle=True,\n",
    "                    validation_data=(x_val, y_val),\n",
    "                    callbacks=[early_stopping])"
   ]
  },
  {
   "cell_type": "code",
   "execution_count": 11,
   "id": "cf970353-584c-40ed-9a28-86d95a506431",
   "metadata": {},
   "outputs": [
    {
     "name": "stdout",
     "output_type": "stream",
     "text": [
      "\u001b[1m4/4\u001b[0m \u001b[32m━━━━━━━━━━━━━━━━━━━━\u001b[0m\u001b[37m\u001b[0m \u001b[1m0s\u001b[0m 57ms/step - accuracy: 0.9557 - loss: 0.2679\n",
      "Test Loss: 0.3002326488494873\n",
      "Test Accuracy: 0.9464285969734192\n"
     ]
    }
   ],
   "source": [
    "test_loss, test_accuracy = model.evaluate(x_val, y_val)\n",
    "\n",
    "print(f\"Test Loss: {test_loss}\")\n",
    "print(f\"Test Accuracy: {test_accuracy}\")"
   ]
  },
  {
   "cell_type": "code",
   "execution_count": 13,
   "id": "285adb58-2b81-4a59-a9b8-91f7c96f2e8f",
   "metadata": {},
   "outputs": [],
   "source": [
    "model.save('bone-fracture-classifier.keras')"
   ]
  },
  {
   "cell_type": "code",
   "execution_count": null,
   "id": "541d1844-8806-4658-af9f-bb3a0ca126d3",
   "metadata": {},
   "outputs": [],
   "source": []
  }
 ],
 "metadata": {
  "kernelspec": {
   "display_name": "Python 3 (ipykernel)",
   "language": "python",
   "name": "python3"
  },
  "language_info": {
   "codemirror_mode": {
    "name": "ipython",
    "version": 3
   },
   "file_extension": ".py",
   "mimetype": "text/x-python",
   "name": "python",
   "nbconvert_exporter": "python",
   "pygments_lexer": "ipython3",
   "version": "3.12.3"
  }
 },
 "nbformat": 4,
 "nbformat_minor": 5
}

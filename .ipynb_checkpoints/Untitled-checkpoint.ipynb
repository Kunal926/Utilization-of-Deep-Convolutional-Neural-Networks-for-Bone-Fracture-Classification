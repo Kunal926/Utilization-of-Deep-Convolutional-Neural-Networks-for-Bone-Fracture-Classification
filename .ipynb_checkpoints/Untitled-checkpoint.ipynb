{
 "cells": [
  {
   "cell_type": "code",
   "execution_count": 1,
   "id": "9406c847-a7b6-4811-811c-30b77b74830b",
   "metadata": {},
   "outputs": [],
   "source": [
    "import tensorflow as tf\n",
    "import numpy as np\n",
    "import os\n",
    "from tensorflow import keras \n",
    "from sklearn.metrics import roc_auc_score, accuracy_score, precision_score, recall_score, f1_score"
   ]
  },
  {
   "cell_type": "code",
   "execution_count": 12,
   "id": "ce19b501-efa3-41d4-8236-0914fe30cfc5",
   "metadata": {},
   "outputs": [],
   "source": [
    "path = \"D:\\\\Projects\\\\Bone Fracture Classifier\\\\Test\\\\\""
   ]
  },
  {
   "cell_type": "code",
   "execution_count": 14,
   "id": "07272cc4-6268-4343-9ba7-fff0f1368cd9",
   "metadata": {},
   "outputs": [
    {
     "name": "stdout",
     "output_type": "stream",
     "text": [
      "Found 140 files belonging to 10 classes.\n"
     ]
    }
   ],
   "source": [
    "from keras import utils\n",
    "test_data = utils.image_dataset_from_directory(\n",
    "    path,\n",
    "    labels=\"inferred\",\n",
    "    label_mode=\"int\",\n",
    "    shuffle=True,\n",
    "    color_mode=\"rgb\",\n",
    "    image_size=(256,256),\n",
    "    batch_size=64,\n",
    "    seed=40,\n",
    ")\n",
    "label=test_data.class_names"
   ]
  },
  {
   "cell_type": "code",
   "execution_count": 15,
   "id": "37738367-e56e-4586-96cf-4a1acc64aa34",
   "metadata": {},
   "outputs": [],
   "source": [
    "def preprocess(img):\n",
    "    img = tf.cast(img, \"float32\") / 255.0\n",
    "    return img\n",
    "test_dataset = test_data.map(lambda x, y: (preprocess(x), y))"
   ]
  },
  {
   "cell_type": "code",
   "execution_count": 16,
   "id": "68d6c9a0-c894-4d15-b115-306b5827bef4",
   "metadata": {},
   "outputs": [],
   "source": [
    "x_test = []\n",
    "y_test = []\n",
    "for images, labels in test_dataset:\n",
    "        x_test.append(images.numpy())\n",
    "        y_test.append(labels.numpy())\n",
    "x_test = np.concatenate(x_test, axis=0)\n",
    "y_test = np.concatenate(y_test, axis=0)"
   ]
  },
  {
   "cell_type": "code",
   "execution_count": 17,
   "id": "791f6361-cfcf-48eb-a1fe-29b789d0a79d",
   "metadata": {},
   "outputs": [],
   "source": [
    "Num_Labels = len(label)\n",
    "y_test = utils.to_categorical(y_test, Num_Labels)"
   ]
  },
  {
   "cell_type": "code",
   "execution_count": 18,
   "id": "41b2893b-cfa5-4eaa-8b10-b590efbe78e9",
   "metadata": {},
   "outputs": [],
   "source": [
    "model = tf.keras.models.load_model(\"D:\\\\Projects\\\\Bone Fracture Classifier\\\\models\\\\DenseNet121.keras\")"
   ]
  },
  {
   "cell_type": "code",
   "execution_count": 19,
   "id": "be9616f6-ac18-4afe-9df6-02feff354e71",
   "metadata": {},
   "outputs": [
    {
     "name": "stdout",
     "output_type": "stream",
     "text": [
      "\u001b[1m5/5\u001b[0m \u001b[32m━━━━━━━━━━━━━━━━━━━━\u001b[0m\u001b[37m\u001b[0m \u001b[1m8s\u001b[0m 1s/step  \n"
     ]
    }
   ],
   "source": [
    "y_pred_proba = model.predict(x_test)"
   ]
  },
  {
   "cell_type": "code",
   "execution_count": null,
   "id": "8e3c0099-1840-4d61-a2cf-62717b7d080f",
   "metadata": {},
   "outputs": [],
   "source": [
    "# Calculate ROC AUC score for each class\n",
    "roc_auc_scores = []\n",
    "for i in range(len(y_test[0])):\n",
    "    roc_auc = roc_auc_score(y_test[:, i], y_pred_proba[:, i])\n",
    "    roc_auc_scores.append(roc_auc)\n",
    "\n",
    "# Convert probabilities to class predictions (highest probability class)\n",
    "y_pred = np.argmax(y_pred_proba, axis=1)\n",
    "\n",
    "# Calculate other metrics\n",
    "accuracy = accuracy_score(np.argmax(y_test, axis=1), y_pred)\n",
    "precision = precision_score(np.argmax(y_test, axis=1), y_pred, average='weighted')\n",
    "recall = recall_score(np.argmax(y_test, axis=1), y_pred, average='weighted')\n",
    "f1 = f1_score(np.argmax(y_test, axis=1), y_pred, average='weighted')\n",
    "\n",
    "print(\"ROC AUC Scores:\", roc_auc_scores)\n",
    "print(\"Accuracy:\", accuracy)\n",
    "print(\"Precision:\", precision)\n",
    "print(\"Recall:\", recall)\n",
    "print(\"F1 Score:\", f1)"
   ]
  },
  {
   "cell_type": "code",
   "execution_count": null,
   "id": "432265e1-d99e-4abb-9e37-bf3e3e6010db",
   "metadata": {},
   "outputs": [],
   "source": [
    "\n",
    "# Compute metrics\n",
    "accuracy = accuracy_score(y_test, y_pred)\n",
    "precision = precision_score(y_test, y_pred)\n",
    "recall = recall_score(y_test, y_pred)\n",
    "f1 = f1_score(y_test, y_pred)\n",
    "roc_auc = roc_auc_score(y_test, y_pred)\n",
    "\n",
    "# Print metrics\n",
    "print(f'Accuracy: {accuracy}')\n",
    "print(f'Precision: {precision}')\n",
    "print(f'Recall: {recall}')\n",
    "print(f'F1 Score: {f1}')\n",
    "print(f'ROC AUC: {roc_auc}')"
   ]
  }
 ],
 "metadata": {
  "kernelspec": {
   "display_name": "Python 3 (ipykernel)",
   "language": "python",
   "name": "python3"
  },
  "language_info": {
   "codemirror_mode": {
    "name": "ipython",
    "version": 3
   },
   "file_extension": ".py",
   "mimetype": "text/x-python",
   "name": "python",
   "nbconvert_exporter": "python",
   "pygments_lexer": "ipython3",
   "version": "3.12.3"
  }
 },
 "nbformat": 4,
 "nbformat_minor": 5
}

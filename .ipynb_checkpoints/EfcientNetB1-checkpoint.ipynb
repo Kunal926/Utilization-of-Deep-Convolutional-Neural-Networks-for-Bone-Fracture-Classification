{
 "cells": [
  {
   "cell_type": "code",
   "execution_count": 1,
   "id": "e230cbaf-e489-40a8-9397-3d92ca4a3c84",
   "metadata": {},
   "outputs": [],
   "source": [
    "import tensorflow as tf\n",
    "import numpy as np\n",
    "import os\n",
    "from tensorflow import keras "
   ]
  },
  {
   "cell_type": "code",
   "execution_count": 2,
   "id": "e85b026f-d707-4559-9022-9948b5c3730c",
   "metadata": {},
   "outputs": [],
   "source": [
    "path = \"D:\\\\Projects\\\\Bone Fracture Classifier\\\\Dataset\\\\\""
   ]
  },
  {
   "cell_type": "code",
   "execution_count": 3,
   "id": "f0a49e0d-11d6-492e-89f1-dca2553c8344",
   "metadata": {},
   "outputs": [
    {
     "name": "stdout",
     "output_type": "stream",
     "text": [
      "Found 1129 files belonging to 10 classes.\n",
      "Using 1017 files for training.\n",
      "Found 1129 files belonging to 10 classes.\n",
      "Using 112 files for validation.\n",
      "['Avulsion fracture', 'Comminuted fracture', 'Fracture Dislocation', 'Greenstick fracture', 'Hairline Fracture', 'Impacted fracture', 'Longitudinal fracture', 'Oblique fracture', 'Pathological fracture', 'Spiral Fracture']\n"
     ]
    }
   ],
   "source": [
    "from keras import utils\n",
    "\n",
    "# load the train data\n",
    "train_data = utils.image_dataset_from_directory(\n",
    "    path,\n",
    "    labels=\"inferred\",\n",
    "    label_mode=\"int\",\n",
    "    validation_split=0.1,\n",
    "    subset=\"training\",\n",
    "    shuffle=True,\n",
    "    color_mode=\"rgb\",\n",
    "    image_size=(256,256),\n",
    "    batch_size=64,\n",
    "    seed=40,\n",
    ")\n",
    "\n",
    "#load the test data\n",
    "validation_data = utils.image_dataset_from_directory(\n",
    "    path,\n",
    "    labels=\"inferred\",\n",
    "    label_mode=\"int\",\n",
    "    validation_split=0.1,\n",
    "    subset=\"validation\",\n",
    "    color_mode=\"rgb\",\n",
    "    image_size=(256,256),\n",
    "    batch_size=64,\n",
    "    seed=40,\n",
    ")\n",
    "\n",
    "label = train_data.class_names\n",
    "print(label)"
   ]
  },
  {
   "cell_type": "code",
   "execution_count": 4,
   "id": "4eb55baf-ce12-40ad-8864-1ae726905e85",
   "metadata": {},
   "outputs": [],
   "source": [
    "# data preprocessing\n",
    "def preprocess(img):\n",
    "    img = tf.cast(img, \"float32\") / 255.0\n",
    "    return img\n",
    "\n",
    "train_dataset = train_data.map(lambda x, y: (preprocess(x), y))\n",
    "val_dataset = validation_data.map(lambda x, y: (preprocess(x), y))"
   ]
  },
  {
   "cell_type": "code",
   "execution_count": 5,
   "id": "b35fbaa4-f0fc-4bb3-b77e-2ff5f5358457",
   "metadata": {},
   "outputs": [],
   "source": [
    "# get training data and labels\n",
    "x_train = []\n",
    "y_train = []\n",
    "\n",
    "for images, labels in train_dataset:\n",
    "        #append train data to x_train\n",
    "        x_train.append(images.numpy())\n",
    "        #append labels to y_train\n",
    "        y_train.append(labels.numpy())\n",
    "# concatenate all the batches to get the full list\n",
    "x_train = np.concatenate(x_train, axis=0)\n",
    "y_train = np.concatenate(y_train, axis=0)"
   ]
  },
  {
   "cell_type": "code",
   "execution_count": 6,
   "id": "be77093b-4730-4830-97aa-f93dbe9c2a73",
   "metadata": {},
   "outputs": [],
   "source": [
    "# get val data and labels\n",
    "\n",
    "x_val = []\n",
    "y_val = []\n",
    "\n",
    "for images, labels in val_dataset:\n",
    "    #append train data to x_train\n",
    "    x_val.append(images.numpy())\n",
    "    \n",
    "    #append labels to y_train\n",
    "    y_val.append(labels.numpy())\n",
    "    \n",
    "# concatenate all the batches to get the full list\n",
    "x_val = np.concatenate(x_val, axis=0)\n",
    "y_val = np.concatenate(y_val, axis=0)"
   ]
  },
  {
   "cell_type": "code",
   "execution_count": 7,
   "id": "79b00ea0-845a-4f5c-9f89-18907544cfdc",
   "metadata": {},
   "outputs": [],
   "source": [
    "Num_Labels = len(label)\n",
    "\n",
    "y_train = utils.to_categorical(y_train, Num_Labels)\n",
    "y_val = utils.to_categorical(y_val, Num_Labels)"
   ]
  },
  {
   "cell_type": "code",
   "execution_count": 8,
   "id": "6e75c0ca-95d9-483b-bbbb-d542c3a490a1",
   "metadata": {},
   "outputs": [],
   "source": [
    "from tensorflow.keras.applications import EfficientNetB1\n",
    "from tensorflow.keras.layers import Dense, GlobalAveragePooling2D, BatchNormalization\n",
    "from tensorflow.keras.models import Model\n",
    "from tensorflow.keras.optimizers import Adam\n",
    "\n",
    "# Load pre-trained EfficientNetB1 without the top (classification) layers\n",
    "base_model = EfficientNetB1(weights='imagenet', include_top=False, input_shape=(256, 256, 3))\n",
    "\n",
    "# Freeze the pre-trained layers\n",
    "for layer in base_model.layers:\n",
    "    layer.trainable = False\n",
    "\n",
    "x = base_model.output\n",
    "x = GlobalAveragePooling2D()(x)\n",
    "x = Dense(128, activation='relu')(x)\n",
    "predictions = Dense(10, activation='softmax')(x)\n",
    "model = Model(inputs=base_model.input, outputs=predictions)\n",
    "opt = Adam(learning_rate=0.01)\n",
    "model.compile(optimizer=opt, loss='categorical_crossentropy', metrics=['accuracy'])\n"
   ]
  },
  {
   "cell_type": "code",
   "execution_count": 9,
   "id": "6ebcf26f-6ab1-4b54-a835-ac217286e973",
   "metadata": {},
   "outputs": [],
   "source": [
    "from tensorflow.keras.callbacks import EarlyStopping\n",
    "\n",
    "early_stopping = EarlyStopping(patience=3, restore_best_weights=True)"
   ]
  },
  {
   "cell_type": "code",
   "execution_count": 10,
   "id": "3473531b-9e80-4222-9fe6-42619082896b",
   "metadata": {},
   "outputs": [
    {
     "name": "stdout",
     "output_type": "stream",
     "text": [
      "Epoch 1/30\n",
      "\u001b[1m32/32\u001b[0m \u001b[32m━━━━━━━━━━━━━━━━━━━━\u001b[0m\u001b[37m\u001b[0m \u001b[1m27s\u001b[0m 586ms/step - accuracy: 0.0983 - loss: 2.3639 - val_accuracy: 0.0893 - val_loss: 2.2993\n",
      "Epoch 2/30\n",
      "\u001b[1m32/32\u001b[0m \u001b[32m━━━━━━━━━━━━━━━━━━━━\u001b[0m\u001b[37m\u001b[0m \u001b[1m17s\u001b[0m 523ms/step - accuracy: 0.1508 - loss: 2.2947 - val_accuracy: 0.1875 - val_loss: 2.2724\n",
      "Epoch 3/30\n",
      "\u001b[1m32/32\u001b[0m \u001b[32m━━━━━━━━━━━━━━━━━━━━\u001b[0m\u001b[37m\u001b[0m \u001b[1m17s\u001b[0m 524ms/step - accuracy: 0.1072 - loss: 2.2845 - val_accuracy: 0.0893 - val_loss: 2.2616\n",
      "Epoch 4/30\n",
      "\u001b[1m32/32\u001b[0m \u001b[32m━━━━━━━━━━━━━━━━━━━━\u001b[0m\u001b[37m\u001b[0m \u001b[1m17s\u001b[0m 524ms/step - accuracy: 0.1615 - loss: 2.2727 - val_accuracy: 0.0893 - val_loss: 2.2723\n",
      "Epoch 5/30\n",
      "\u001b[1m32/32\u001b[0m \u001b[32m━━━━━━━━━━━━━━━━━━━━\u001b[0m\u001b[37m\u001b[0m \u001b[1m17s\u001b[0m 522ms/step - accuracy: 0.1347 - loss: 2.2835 - val_accuracy: 0.0893 - val_loss: 2.2649\n",
      "Epoch 6/30\n",
      "\u001b[1m32/32\u001b[0m \u001b[32m━━━━━━━━━━━━━━━━━━━━\u001b[0m\u001b[37m\u001b[0m \u001b[1m17s\u001b[0m 534ms/step - accuracy: 0.1255 - loss: 2.2981 - val_accuracy: 0.0893 - val_loss: 2.2668\n"
     ]
    }
   ],
   "source": [
    "# Train the model\n",
    "history = model.fit(x_train, y_train,\n",
    "                    epochs=30,\n",
    "                    batch_size=32,\n",
    "                    shuffle=True,\n",
    "                    validation_data=(x_val, y_val),\n",
    "                    callbacks=[early_stopping])"
   ]
  },
  {
   "cell_type": "code",
   "execution_count": 11,
   "id": "206ff009-2117-422a-83a1-d777c0f49873",
   "metadata": {},
   "outputs": [],
   "source": [
    "model.save('EfcientNetB1.keras')"
   ]
  },
  {
   "cell_type": "code",
   "execution_count": null,
   "id": "0cc4cb5e-37ec-4525-8227-29115647a464",
   "metadata": {},
   "outputs": [],
   "source": []
  }
 ],
 "metadata": {
  "kernelspec": {
   "display_name": "Python 3 (ipykernel)",
   "language": "python",
   "name": "python3"
  },
  "language_info": {
   "codemirror_mode": {
    "name": "ipython",
    "version": 3
   },
   "file_extension": ".py",
   "mimetype": "text/x-python",
   "name": "python",
   "nbconvert_exporter": "python",
   "pygments_lexer": "ipython3",
   "version": "3.12.3"
  }
 },
 "nbformat": 4,
 "nbformat_minor": 5
}
